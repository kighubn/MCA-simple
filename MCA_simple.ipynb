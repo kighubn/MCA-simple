{
 "cells": [
  {
   "cell_type": "code",
   "execution_count": 1,
   "metadata": {},
   "outputs": [],
   "source": [
    "from sklearn.decomposition import PCA\n",
    "from sklearn.cluster import AgglomerativeClustering,KMeans\n",
    "from scipy.cluster.hierarchy import dendrogram, linkage"
   ]
  },
  {
   "cell_type": "code",
   "execution_count": 5,
   "metadata": {},
   "outputs": [],
   "source": [
    "import psycopg2\n",
    "from sqlalchemy import create_engine,MetaData,Table\n",
    "import pandas as pd\n",
    "import matplotlib.pyplot as plt\n",
    "import numpy as np\n",
    "from math import exp,log,sqrt\n",
    "from scipy.stats import norm\n",
    "from sklearn.preprocessing import scale,StandardScaler\n",
    "from datetime import timedelta"
   ]
  },
  {
   "cell_type": "code",
   "execution_count": 32,
   "metadata": {},
   "outputs": [],
   "source": [
    "class MCA():\n",
    "    \n",
    "    def __init__(self, n_components):\n",
    "        self.n_components = n_components\n",
    "        \n",
    "    def generer_matrice(self,donnee_new):\n",
    "        length=[]\n",
    "        for i in range(len(donnee_new[0])):\n",
    "            length.append(len(set(donnee_new[:,i])))\n",
    "        matrice=[]\n",
    "        \n",
    "        for i in range(len(donnee_new)):\n",
    "            y=[]\n",
    "        # range(1,len(donnee_new[0])) starts from 1 becaouse the colonne is station_id, not useful for me\n",
    "            for j in range(0,len(donnee_new[0])):\n",
    "                x=length[j]*[0]\n",
    "                exist=sorted(list(set(donnee_new[:,j])))\n",
    "                ind= exist.index(int(donnee_new[i,j]))\n",
    "                x[ind]=1\n",
    "                y=np.append(y,x)\n",
    "            matrice.append(y)\n",
    "        return matrice\n",
    "    \n",
    "    def fit(self,donnee_new):\n",
    "        length=[]\n",
    "        for i in range(len(donnee_new[0])):\n",
    "            length.append(len(set(donnee_new[:,i])))\n",
    "        matrice=[]\n",
    "        for i in range(len(donnee_new)):\n",
    "            y=[]\n",
    "            for j in range(0,len(donnee_new[0])):\n",
    "                x=length[j]*[0]\n",
    "                exist=sorted(list(set(donnee_new[:,j])))\n",
    "                ind= exist.index(int(donnee_new[i,j]))\n",
    "                x[ind]=1\n",
    "                y=np.append(y,x)\n",
    "            matrice.append(y)\n",
    "        pk=np.sum(matrice,axis=0)/len(matrice)\n",
    "        I=len(matrice)\n",
    "        J=len(donnee_new[0])\n",
    "        pk_inverse=[1/pk[i] for i in range(len(pk))]\n",
    "        pk_racine=[sqrt(pk[i]) for i in range(len(pk))]\n",
    "        pk_matrice_inverse=np.diag(pk_inverse)\n",
    "        pk_matrice_racine=np.diag(pk_racine)\n",
    "        matrice_tr=np.dot(matrice,pk_matrice_inverse)\n",
    "        for i in range(len(matrice_tr)):\n",
    "            for j in range(len(matrice_tr[0])):\n",
    "                matrice_tr[i,j]=matrice_tr[i,j]-1\n",
    "        matrice_tr2=np.dot(matrice_tr,pk_matrice_racine)\n",
    "        matrice_tr3=matrice_tr2/sqrt(I*J)\n",
    "        pca = PCA(n_components=self.n_components)\n",
    "        pca.fit(matrice_tr3)\n",
    "        self.explained_variance_ = pca.explained_variance_\n",
    "        self.components_ = pca.components_\n",
    "        self.explained_variance_ratio_=pca.explained_variance_ratio_\n",
    "        \n",
    "    def explained_variance_(self):\n",
    "        return self.explained_variance_\n",
    "    \n",
    "    def components_(self):\n",
    "        return self.components\n",
    "    def explained_variance_ratio_(self):\n",
    "        return self.explained_variance_ratio_\n",
    " \n"
   ]
  },
  {
   "cell_type": "code",
   "execution_count": 33,
   "metadata": {},
   "outputs": [],
   "source": [
    "mca=MCA(n_components=2)"
   ]
  },
  {
   "cell_type": "code",
   "execution_count": 34,
   "metadata": {},
   "outputs": [],
   "source": [
    "x=np.array([[0,1,2],\n",
    "            [1,0,1],\n",
    "            [0,1,0],\n",
    "            [0,0,1],\n",
    "            [1,1,2]])"
   ]
  },
  {
   "cell_type": "code",
   "execution_count": 35,
   "metadata": {},
   "outputs": [],
   "source": [
    "matrice=mca.generer_matrice(x)"
   ]
  },
  {
   "cell_type": "code",
   "execution_count": 36,
   "metadata": {},
   "outputs": [
    {
     "name": "stdout",
     "output_type": "stream",
     "text": [
      "[array([1., 0., 0., 1., 0., 0., 1.]), array([0., 1., 1., 0., 0., 1., 0.]), array([1., 0., 0., 1., 1., 0., 0.]), array([1., 0., 1., 0., 0., 1., 0.]), array([0., 1., 0., 1., 0., 0., 1.])]\n"
     ]
    }
   ],
   "source": [
    "print (matrice)"
   ]
  },
  {
   "cell_type": "code",
   "execution_count": 37,
   "metadata": {},
   "outputs": [],
   "source": [
    "mca.fit(x)"
   ]
  },
  {
   "cell_type": "code",
   "execution_count": 38,
   "metadata": {},
   "outputs": [
    {
     "name": "stdout",
     "output_type": "stream",
     "text": [
      "[0.17165137 0.11111111]\n"
     ]
    }
   ],
   "source": [
    "print (mca.explained_variance_)"
   ]
  },
  {
   "cell_type": "code",
   "execution_count": 39,
   "metadata": {},
   "outputs": [
    {
     "name": "stdout",
     "output_type": "stream",
     "text": [
      "[[-0.15499413  0.18982827  0.52891843 -0.43186009 -0.31969727  0.52891843\n",
      "  -0.30285832]\n",
      " [-0.41039134  0.50262469 -0.12565617  0.10259784 -0.53311399 -0.12565617\n",
      "   0.50262469]]\n"
     ]
    }
   ],
   "source": [
    "print (mca.components_)"
   ]
  },
  {
   "cell_type": "code",
   "execution_count": 40,
   "metadata": {},
   "outputs": [
    {
     "name": "stdout",
     "output_type": "stream",
     "text": [
      "[0.51495412 0.33333333]\n"
     ]
    }
   ],
   "source": [
    "print (mca.explained_variance_ratio_)"
   ]
  }
 ],
 "metadata": {
  "kernelspec": {
   "display_name": "Python 3",
   "language": "python",
   "name": "python3"
  },
  "language_info": {
   "codemirror_mode": {
    "name": "ipython",
    "version": 3
   },
   "file_extension": ".py",
   "mimetype": "text/x-python",
   "name": "python",
   "nbconvert_exporter": "python",
   "pygments_lexer": "ipython3",
   "version": "3.7.3"
  }
 },
 "nbformat": 4,
 "nbformat_minor": 2
}
